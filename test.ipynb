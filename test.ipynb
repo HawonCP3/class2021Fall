{
  "nbformat": 4,
  "nbformat_minor": 0,
  "metadata": {
    "colab": {
      "name": "test.ipynb",
      "provenance": [],
      "authorship_tag": "ABX9TyPCVweNVA98mUaogpVR033f",
      "include_colab_link": true
    },
    "kernelspec": {
      "name": "python3",
      "display_name": "Python 3"
    },
    "language_info": {
      "name": "python"
    }
  },
  "cells": [
    {
      "cell_type": "markdown",
      "metadata": {
        "id": "view-in-github",
        "colab_type": "text"
      },
      "source": [
        "<a href=\"https://colab.research.google.com/github/HawonCP3/class2021Fall/blob/main/test.ipynb\" target=\"_parent\"><img src=\"https://colab.research.google.com/assets/colab-badge.svg\" alt=\"Open In Colab\"/></a>"
      ]
    },
    {
      "cell_type": "markdown",
      "metadata": {
        "id": "PCUBbcdI8067"
      },
      "source": [
        "변수 (variables), 제어문 (syntax), 함수"
      ]
    },
    {
      "cell_type": "code",
      "metadata": {
        "colab": {
          "base_uri": "https://localhost:8080/"
        },
        "id": "5uxA2Wn88-QX",
        "outputId": "e4a986ab-4746-420b-c250-873c1af5cd84"
      },
      "source": [
        "a = 1\n",
        "b = 1.1\n",
        "c = 'hello'\n",
        "d = [1, 'abc', 2.1]\n",
        "e = {\"apple\": \"red fruit\", \"banana\": \"yellow fruit\"}\n",
        "\n",
        "# print(a)\n",
        "# print(b)\n",
        "\n",
        "# print(type(a))\n",
        "# print(type(c))\n",
        "# print(type(b))\n",
        "# print(type(d))\n",
        "\n",
        "print(e[\"apple\"])"
      ],
      "execution_count": 11,
      "outputs": [
        {
          "output_type": "stream",
          "name": "stdout",
          "text": [
            "red fruit\n"
          ]
        }
      ]
    }
  ]
}